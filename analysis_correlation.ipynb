{
 "cells": [
  {
   "cell_type": "code",
   "execution_count": null,
   "metadata": {},
   "outputs": [
    {
     "name": "stderr",
     "output_type": "stream",
     "text": [
      "/home/athena/.local/lib/python3.10/site-packages/matplotlib/projections/__init__.py:63: UserWarning: Unable to import Axes3D. This may be due to multiple versions of Matplotlib being installed (e.g. as a system package and as a pip package). As a result, the 3D projection is not available.\n",
      "  warnings.warn(\"Unable to import Axes3D. This may be due to multiple versions of \"\n",
      "/usr/lib/python3/dist-packages/scipy/__init__.py:146: UserWarning: A NumPy version >=1.17.3 and <1.25.0 is required for this version of SciPy (detected version 1.26.4\n",
      "  warnings.warn(f\"A NumPy version >={np_minversion} and <{np_maxversion}\"\n"
     ]
    }
   ],
   "source": [
    "import pandas as pd\n",
    "import seaborn as sns\n",
    "import matplotlib.pyplot as plt\n",
    "import numpy as np\n",
    "\n",
    "\n",
    "df=pd.read_csv(\"merged.csv\")\n",
    "\n",
    "df_model = df[['Bin Level', 'traffic_light', 'Real Tons', 'Bond Work Index',\n",
    "       'Deep Work Index', 'feeder 1st Motor']]\n",
    "\n",
    "mineral_columns = ['Copper Grade', 'Py', 'Iron', 'Arsenic', 'Mo', 'Kao', 'Piro', 'Bn', 'Mus', 'Sulfide']\n",
    "\n",
    "\n",
    "\n",
    "\n",
    "df = pd.concat([df_model, df[mineral_columns]], axis=1)\n",
    "columns_to_replace = ['Real Tons', 'Bond Work Index', 'Deep Work Index','feeder 1st Motor','Copper Grade', 'Py', 'Iron', 'Arsenic', 'Mo', 'Kao', 'Piro', 'Bn', 'Mus', 'Sulfide']\n",
    "df[columns_to_replace] = df[columns_to_replace].mask(df[columns_to_replace] == 0).ffill()\n",
    "\n",
    "\n",
    "def remove_outliers_mean_based(df, deviation_factor=4.0):\n",
    "    for column in df.select_dtypes(include=[np.number]).columns:\n",
    "        mean = df[column].mean()\n",
    "        std_dev = df[column].std()\n",
    "        lower_bound = mean - deviation_factor * std_dev\n",
    "        upper_bound = mean + deviation_factor * std_dev\n",
    "        df = df[(df[column] >= lower_bound) & (df[column] <= upper_bound)]\n",
    "    return df\n",
    "\n",
    "# Define a function to remove outliers based on min-max range with a tolerance\n",
    "def remove_outliers_minmax_based(df, tolerance_factor=0.1):\n",
    "    for column in df.select_dtypes(include=[np.number]).columns:\n",
    "        min_value = df[column].min()\n",
    "        max_value = df[column].max()\n",
    "        range_tolerance = (max_value - min_value) * tolerance_factor\n",
    "        lower_bound = min_value - range_tolerance\n",
    "        upper_bound = max_value + range_tolerance\n",
    "        df = df[(df[column] >= lower_bound) & (df[column] <= upper_bound)]\n",
    "    return df\n",
    "\n",
    "# Choose the method: 'mean' or 'minmax'\n",
    "method = 'mean'  # Change to 'minmax' if you want to use the min-max based method\n",
    "\n",
    "deviation_factor = 4.0# For mean-based method  this threshold can be changed\n",
    "minmax_tolerance = 0.1  # For min-max based method #DONT USE \n",
    "\n",
    "if method == 'mean':\n",
    "    cleaned_df = remove_outliers_mean_based(df, deviation_factor=deviation_factor)\n",
    "elif method == 'minmax':\n",
    "    cleaned_df = remove_outliers_minmax_based(df, tolerance_factor=minmax_tolerance)\n",
    "\n",
    "#print the new data frame \n",
    "df= cleaned_df\n",
    "df\n",
    "\n"
   ]
  },
  {
   "cell_type": "code",
   "execution_count": null,
   "metadata": {},
   "outputs": [],
   "source": [
    "\n",
    "X = df[['traffic_light', 'Real Tons', 'Bond Work Index', 'Bin Level', 'Deep Work Index', 'feeder 1st Motor', 'Copper Grade', 'Py', 'Iron', 'Arsenic', 'Mo', 'Kao', 'Piro', 'Bn', 'Mus', 'Sulfide']]\n",
    "\n",
    "y = df['Bin Level']\n",
    "\n",
    "import torch\n",
    "\n",
    "\n",
    "X = df[['traffic_light', 'Real Tons',  'Bin Level',  'feeder 1st Motor', 'Copper Grade', 'Py', 'Iron', 'Arsenic', 'Mo', 'Kao', 'Piro', 'Bn', 'Mus', 'Sulfide']]\n",
    "\n",
    "\n",
    "minerals=X[['Copper Grade', 'Py', 'Iron', 'Arsenic', 'Mo', 'Kao', 'Piro', 'Bn', 'Mus', 'Sulfide']]\n",
    "real_tons=X[['Real Tons']]\n",
    "feeder=X[['feeder 1st Motor']]\n",
    "traffic_light=X[['traffic_light']]\n",
    "bin_level=X[['Bin Level']]\n",
    "\n",
    "minerals = torch.tensor(X[['Copper Grade', 'Py', 'Iron', 'Arsenic', 'Mo', 'Kao', 'Piro', 'Bn', 'Mus', 'Sulfide']].values)\n",
    "real_tons = torch.tensor(X[['Real Tons']].values)\n",
    "feeder = torch.tensor(X[['feeder 1st Motor']].values)\n",
    "traffic_light = torch.tensor(X[['traffic_light']].values)\n",
    "bin_level= torch.tensor(X[['Bin Level']].values)\n",
    "\n",
    "tensors_list = [minerals, real_tons, feeder, traffic_light]\n",
    "\n",
    "\n",
    "y = torch.tensor(df['Bin Level'].values, dtype=torch.float32)"
   ]
  },
  {
   "cell_type": "code",
   "execution_count": null,
   "metadata": {},
   "outputs": [
    {
     "ename": "",
     "evalue": "",
     "output_type": "error",
     "traceback": [
      "\u001b[1;31mThe kernel failed to start as the Python Environment 'Python 3.10.12' is no longer available. Consider selecting another kernel or refreshing the list of Python Environments."
     ]
    }
   ],
   "source": [
    "\n"
   ]
  },
  {
   "cell_type": "code",
   "execution_count": null,
   "metadata": {},
   "outputs": [],
   "source": []
  }
 ],
 "metadata": {
  "kernelspec": {
   "display_name": "Python 3",
   "language": "python",
   "name": "python3"
  },
  "language_info": {
   "codemirror_mode": {
    "name": "ipython",
    "version": 3
   },
   "file_extension": ".py",
   "mimetype": "text/x-python",
   "name": "python",
   "nbconvert_exporter": "python",
   "pygments_lexer": "ipython3",
   "version": "3.10.12"
  }
 },
 "nbformat": 4,
 "nbformat_minor": 2
}
